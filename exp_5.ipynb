{
  "nbformat": 4,
  "nbformat_minor": 0,
  "metadata": {
    "colab": {
      "provenance": []
    },
    "kernelspec": {
      "name": "python3",
      "display_name": "Python 3"
    },
    "language_info": {
      "name": "python"
    }
  },
  "cells": [
    {
      "cell_type": "code",
      "execution_count": null,
      "metadata": {
        "id": "OU0PaaRCXqSj"
      },
      "outputs": [],
      "source": [
        "import pandas as pd\n",
        "from sklearn.cluster import KMeans\n",
        "from sklearn.datasets import load_iris\n",
        "from sklearn.metrics import confusion_matrix, accuracy_score\n",
        "\n"
      ]
    },
    {
      "cell_type": "code",
      "source": [
        "iris = load_iris()\n",
        "x=iris.data\n",
        "y=iris.target\n"
      ],
      "metadata": {
        "id": "rqlKPis3YmN3"
      },
      "execution_count": null,
      "outputs": []
    },
    {
      "cell_type": "code",
      "source": [
        "kmeans=KMeans(n_clusters=3,random_state=42)\n",
        "y_kmeans=kmeans.fit_predict(x)"
      ],
      "metadata": {
        "id": "201KzJwlYzWS"
      },
      "execution_count": null,
      "outputs": []
    },
    {
      "cell_type": "code",
      "source": [
        "df=-pd.DataFrame(x,columns=iris.feature_names)\n",
        "df['Actual']=y\n",
        "df['Clusture']= y_kmeans"
      ],
      "metadata": {
        "id": "R4DlHotHZEDU"
      },
      "execution_count": null,
      "outputs": []
    },
    {
      "cell_type": "code",
      "source": [
        "print(\"Cluster Centers:\\n\", kmeans.cluster_centers_)\n",
        "print(\"\\nSample clustured data:\\n\",df.head())\n"
      ],
      "metadata": {
        "colab": {
          "base_uri": "https://localhost:8080/"
        },
        "id": "0koY3H05ZiRX",
        "outputId": "1d354cc3-af56-4828-963b-19b5a8ca2c8f"
      },
      "execution_count": null,
      "outputs": [
        {
          "output_type": "stream",
          "name": "stdout",
          "text": [
            "Cluster Centers:\n",
            " [[6.85384615 3.07692308 5.71538462 2.05384615]\n",
            " [5.006      3.428      1.462      0.246     ]\n",
            " [5.88360656 2.74098361 4.38852459 1.43442623]]\n",
            "\n",
            "Sample clustured data:\n",
            "    sepal length (cm)  sepal width (cm)  petal length (cm)  petal width (cm)  \\\n",
            "0               -5.1              -3.5               -1.4              -0.2   \n",
            "1               -4.9              -3.0               -1.4              -0.2   \n",
            "2               -4.7              -3.2               -1.3              -0.2   \n",
            "3               -4.6              -3.1               -1.5              -0.2   \n",
            "4               -5.0              -3.6               -1.4              -0.2   \n",
            "\n",
            "   Actual  Clusture  \n",
            "0       0         1  \n",
            "1       0         1  \n",
            "2       0         1  \n",
            "3       0         1  \n",
            "4       0         1  \n"
          ]
        }
      ]
    },
    {
      "cell_type": "code",
      "source": [
        "cm=confusion_matrix(y,y_kmeans)\n",
        "print(\"Confusion Matrix:\\n\",cm)"
      ],
      "metadata": {
        "colab": {
          "base_uri": "https://localhost:8080/"
        },
        "id": "ujPznvb1a5ex",
        "outputId": "225b1ef1-b5b1-4e28-f16e-ad02746d4b40"
      },
      "execution_count": null,
      "outputs": [
        {
          "output_type": "stream",
          "name": "stdout",
          "text": [
            "Confusion Matrix:\n",
            " [[ 0 50  0]\n",
            " [ 3  0 47]\n",
            " [36  0 14]]\n"
          ]
        }
      ]
    }
  ]
}